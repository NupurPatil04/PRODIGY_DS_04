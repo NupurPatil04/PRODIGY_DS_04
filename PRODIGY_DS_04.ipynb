{
  "nbformat": 4,
  "nbformat_minor": 0,
  "metadata": {
    "colab": {
      "provenance": []
    },
    "kernelspec": {
      "name": "python3",
      "display_name": "Python 3"
    },
    "language_info": {
      "name": "python"
    }
  },
  "cells": [
    {
      "cell_type": "markdown",
      "source": [],
      "metadata": {
        "id": "xINzxOo4FSSl"
      }
    },
    {
      "cell_type": "code",
      "metadata": {
        "colab": {
          "base_uri": "https://localhost:8080/"
        },
        "id": "cd45fc08",
        "outputId": "b1dac10c-4584-4811-a730-ddd6e50463bf"
      },
      "source": [
        "import nltk\n",
        "nltk.download('stopwords')\n",
        "nltk.download('wordnet') # Download for lemmatization"
      ],
      "execution_count": 26,
      "outputs": [
        {
          "output_type": "stream",
          "name": "stderr",
          "text": [
            "[nltk_data] Downloading package stopwords to /root/nltk_data...\n",
            "[nltk_data]   Package stopwords is already up-to-date!\n",
            "[nltk_data] Downloading package wordnet to /root/nltk_data...\n",
            "[nltk_data]   Package wordnet is already up-to-date!\n"
          ]
        },
        {
          "output_type": "execute_result",
          "data": {
            "text/plain": [
              "True"
            ]
          },
          "metadata": {},
          "execution_count": 26
        }
      ]
    },
    {
      "cell_type": "code",
      "metadata": {
        "colab": {
          "base_uri": "https://localhost:8080/"
        },
        "id": "1gggszEjKSeC",
        "outputId": "bfdb039a-2756-454b-9a19-c07df59ca56b"
      },
      "source": [
        "from nltk.corpus import stopwords\n",
        "from nltk.stem import WordNetLemmatizer\n",
        "from nltk.tokenize import word_tokenize\n",
        "\n",
        "stop_words = set(stopwords.words('english'))\n",
        "lemmatizer = WordNetLemmatizer()\n",
        "\n",
        "def clean_text_refined(text):\n",
        "    # Apply existing cleaning steps\n",
        "    text = str(text).lower()\n",
        "    text = re.sub(r'http\\S+', '', text)\n",
        "    text = re.sub(r'@\\w+', '', text)\n",
        "    text = re.sub(r'#\\w+', '', text)\n",
        "    text = re.sub(r'[^\\w\\s]', '', text)\n",
        "    text = re.sub(r'\\d+', '', text)\n",
        "    text = re.sub(r'\\s+', ' ', text).strip()\n",
        "\n",
        "    # Tokenize, remove stop words, and lemmatize\n",
        "    tokens = word_tokenize(text)\n",
        "    cleaned_tokens = [lemmatizer.lemmatize(word) for word in tokens if word not in stop_words]\n",
        "\n",
        "    return ' '.join(cleaned_tokens)\n",
        "\n",
        "df['Tweet'] = df['Tweet'].apply(clean_text_refined)\n",
        "\n",
        "# Display the cleaned data\n",
        "print(df.head())"
      ],
      "execution_count": 36,
      "outputs": [
        {
          "output_type": "stream",
          "name": "stdout",
          "text": [
            "        Entity Sentiment                         Tweet\n",
            "0  Borderlands  Positive  im getting borderland murder\n",
            "1  Borderlands  Positive            coming border kill\n",
            "2  Borderlands  Positive    im getting borderland kill\n",
            "3  Borderlands  Positive   im coming borderland murder\n",
            "4  Borderlands  Positive  im getting borderland murder\n"
          ]
        }
      ]
    },
    {
      "cell_type": "code",
      "metadata": {
        "colab": {
          "base_uri": "https://localhost:8080/"
        },
        "id": "12uRA0LvKWZX",
        "outputId": "2f4fd7e8-59f0-4f9e-d684-b5e3f20e667e"
      },
      "source": [
        "import nltk\n",
        "nltk.download('punkt_tab')\n",
        "\n",
        "from nltk.corpus import stopwords\n",
        "from nltk.stem import WordNetLemmatizer\n",
        "from nltk.tokenize import word_tokenize\n",
        "import re\n",
        "\n",
        "stop_words = set(stopwords.words('english'))\n",
        "lemmatizer = WordNetLemmatizer()\n",
        "\n",
        "def clean_text_refined(text):\n",
        "    # Apply existing cleaning steps\n",
        "    text = str(text).lower()\n",
        "    text = re.sub(r'http\\S+', '', text)\n",
        "    text = re.sub(r'@\\w+', '', text)\n",
        "    text = re.sub(r'#\\w+', '', text)\n",
        "    text = re.sub(r'[^\\w\\s]', '', text)\n",
        "    text = re.sub(r'\\d+', '', text)\n",
        "    text = re.sub(r'\\s+', ' ', text).strip()\n",
        "\n",
        "    # Tokenize, remove stop words, and lemmatize\n",
        "    tokens = word_tokenize(text)\n",
        "    cleaned_tokens = [lemmatizer.lemmatize(word) for word in tokens if word not in stop_words]\n",
        "\n",
        "    return ' '.join(cleaned_tokens)\n",
        "\n",
        "df['Tweet'] = df['Tweet'].apply(clean_text_refined)\n",
        "\n",
        "# Display the cleaned data\n",
        "print(df.head())"
      ],
      "execution_count": 29,
      "outputs": [
        {
          "output_type": "stream",
          "name": "stderr",
          "text": [
            "[nltk_data] Downloading package punkt_tab to /root/nltk_data...\n",
            "[nltk_data]   Unzipping tokenizers/punkt_tab.zip.\n"
          ]
        },
        {
          "output_type": "stream",
          "name": "stdout",
          "text": [
            "        Entity Sentiment                         Tweet\n",
            "0  Borderlands  Positive  im getting borderland murder\n",
            "1  Borderlands  Positive            coming border kill\n",
            "2  Borderlands  Positive    im getting borderland kill\n",
            "3  Borderlands  Positive   im coming borderland murder\n",
            "4  Borderlands  Positive  im getting borderland murder\n"
          ]
        }
      ]
    },
    {
      "cell_type": "code",
      "metadata": {
        "colab": {
          "base_uri": "https://localhost:8080/"
        },
        "id": "077d737d",
        "outputId": "ce6a9365-a7cf-43f8-fb49-df5daf747f34"
      },
      "source": [
        "vectorizer_ngram = TfidfVectorizer(ngram_range=(1, 2), max_features=10000)\n",
        "X_new = vectorizer_ngram.fit_transform(df['Tweet'])\n",
        "y = df['Sentiment']\n",
        "\n",
        "print(\"Shape of the new feature matrix:\", X_new.shape)"
      ],
      "execution_count": 30,
      "outputs": [
        {
          "output_type": "stream",
          "name": "stdout",
          "text": [
            "Shape of the new feature matrix: (73996, 10000)\n"
          ]
        }
      ]
    },
    {
      "cell_type": "code",
      "metadata": {
        "colab": {
          "base_uri": "https://localhost:8080/",
          "height": 705
        },
        "id": "010ccb32",
        "outputId": "3205c940-997f-44e7-be96-141888fe8656"
      },
      "source": [
        "from sklearn.linear_model import LogisticRegression\n",
        "from sklearn.model_selection import GridSearchCV\n",
        "\n",
        "# Define a parameter grid for LogisticRegression\n",
        "param_grid = {\n",
        "    'C': [0.1, 1, 10],\n",
        "    'solver': ['liblinear', 'saga']\n",
        "}\n",
        "\n",
        "# Instantiate a GridSearchCV object\n",
        "grid_search = GridSearchCV(LogisticRegression(), param_grid, cv=5, scoring='accuracy', n_jobs=-1)\n",
        "\n",
        "# Fit GridSearchCV to the training data\n",
        "grid_search.fit(X_train, y_train)\n",
        "\n",
        "# Print the best parameters and best cross-validation score\n",
        "print(\"Best parameters:\", grid_search.best_params_)\n",
        "print(\"Best cross-validation accuracy:\", grid_search.best_score_)\n",
        "\n",
        "# Evaluate the best model on the test data\n",
        "best_model = grid_search.best_estimator_\n",
        "y_pred_lr = best_model.predict(X_test)\n",
        "\n",
        "print(\"\\nAccuracy:\", accuracy_score(y_test, y_pred_lr))\n",
        "print(\"\\nClassification Report:\\n\", classification_report(y_test, y_pred_lr))\n",
        "\n",
        "# Confusion Matrix for the best model\n",
        "cm_lr = confusion_matrix(y_test, y_pred_lr)\n",
        "plt.figure(figsize=(6,4))\n",
        "sns.heatmap(cm_lr, annot=True, fmt='d', cmap='Blues', xticklabels=best_model.classes_, yticklabels=best_model.classes_)\n",
        "plt.xlabel('Predicted')\n",
        "plt.ylabel('Actual')\n",
        "plt.title('Confusion Matrix (Logistic Regression)')\n",
        "plt.show()"
      ],
      "execution_count": 31,
      "outputs": [
        {
          "output_type": "stream",
          "name": "stdout",
          "text": [
            "Best parameters: {'C': 10, 'solver': 'saga'}\n",
            "Best cross-validation accuracy: 0.6992216921918153\n",
            "\n",
            "Accuracy: 0.7060989489187922\n",
            "\n",
            "Classification Report:\n",
            "               precision    recall  f1-score   support\n",
            "\n",
            "  Irrelevant       0.67      0.59      0.63      2592\n",
            "    Negative       0.76      0.77      0.76      4519\n",
            "     Neutral       0.65      0.67      0.66      3596\n",
            "    Positive       0.72      0.73      0.73      4230\n",
            "\n",
            "    accuracy                           0.71     14937\n",
            "   macro avg       0.70      0.69      0.70     14937\n",
            "weighted avg       0.71      0.71      0.71     14937\n",
            "\n"
          ]
        },
        {
          "output_type": "display_data",
          "data": {
            "text/plain": [
              "<Figure size 600x400 with 2 Axes>"
            ],
            "image/png": "[encoded data removed]"
          },
          "metadata": {}
        }
      ]
    }
  ]
}